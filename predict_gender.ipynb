{
  "nbformat": 4,
  "nbformat_minor": 0,
  "metadata": {
    "colab": {
      "provenance": []
    },
    "kernelspec": {
      "name": "python3",
      "display_name": "Python 3"
    },
    "language_info": {
      "name": "python"
    }
  },
  "cells": [
    {
      "cell_type": "code",
      "execution_count": 1,
      "metadata": {
        "colab": {
          "base_uri": "https://localhost:8080/"
        },
        "id": "7jNgrQcBDtkP",
        "outputId": "303efef3-e37b-4f91-b552-229ca0ff33c0"
      },
      "outputs": [
        {
          "output_type": "stream",
          "name": "stdout",
          "text": [
            "Looking in indexes: https://pypi.org/simple, https://us-python.pkg.dev/colab-wheels/public/simple/\n",
            "Collecting micromlgen\n",
            "  Downloading micromlgen-1.1.28.tar.gz (12 kB)\n",
            "Requirement already satisfied: jinja2 in /usr/local/lib/python3.8/dist-packages (from micromlgen) (2.11.3)\n",
            "Requirement already satisfied: MarkupSafe>=0.23 in /usr/local/lib/python3.8/dist-packages (from jinja2->micromlgen) (2.0.1)\n",
            "Building wheels for collected packages: micromlgen\n",
            "  Building wheel for micromlgen (setup.py) ... \u001b[?25l\u001b[?25hdone\n",
            "  Created wheel for micromlgen: filename=micromlgen-1.1.28-py3-none-any.whl size=32173 sha256=b8fd30b4d02b2d3c3ee4e924bc4b91107554a8ceaf8fede1ec0857a42be63568\n",
            "  Stored in directory: /root/.cache/pip/wheels/b5/c1/36/9848f822936171a90ec43d0534cb86a58e1dff20c645e22074\n",
            "Successfully built micromlgen\n",
            "Installing collected packages: micromlgen\n",
            "Successfully installed micromlgen-1.1.28\n"
          ]
        }
      ],
      "source": [
        "pip install micromlgen"
      ]
    },
    {
      "cell_type": "code",
      "source": [
        "from sklearn.model_selection import train_test_split as split\n",
        "from sklearn.tree import DecisionTreeClassifier\n",
        "from sklearn.ensemble import RandomForestClassifier\n",
        "from pandas import read_csv\n",
        "from micromlgen import port\n",
        "from sklearn.preprocessing import LabelEncoder"
      ],
      "metadata": {
        "id": "tvVz9f4ZEaIi"
      },
      "execution_count": 16,
      "outputs": []
    },
    {
      "cell_type": "code",
      "source": [
        "# Load dataset\n",
        "df = read_csv('https://raw.githubusercontent.com/wooihaw/datasets/main/genders_heights_weights.csv')\n",
        "df.sample(5)"
      ],
      "metadata": {
        "colab": {
          "base_uri": "https://localhost:8080/",
          "height": 206
        },
        "id": "y81I-3isFAHU",
        "outputId": "65575072-e64b-41b3-ab43-0540a5a1cad6"
      },
      "execution_count": 17,
      "outputs": [
        {
          "output_type": "execute_result",
          "data": {
            "text/plain": [
              "      Gender  Height  Weight\n",
              "1555    Male   167.6    74.9\n",
              "3202    Male   169.7    78.3\n",
              "6574  Female   163.2    64.6\n",
              "9389  Female   159.5    61.6\n",
              "9743  Female   164.8    71.8"
            ],
            "text/html": [
              "\n",
              "  <div id=\"df-eb01db00-157c-4487-907b-ceb3761fe61a\">\n",
              "    <div class=\"colab-df-container\">\n",
              "      <div>\n",
              "<style scoped>\n",
              "    .dataframe tbody tr th:only-of-type {\n",
              "        vertical-align: middle;\n",
              "    }\n",
              "\n",
              "    .dataframe tbody tr th {\n",
              "        vertical-align: top;\n",
              "    }\n",
              "\n",
              "    .dataframe thead th {\n",
              "        text-align: right;\n",
              "    }\n",
              "</style>\n",
              "<table border=\"1\" class=\"dataframe\">\n",
              "  <thead>\n",
              "    <tr style=\"text-align: right;\">\n",
              "      <th></th>\n",
              "      <th>Gender</th>\n",
              "      <th>Height</th>\n",
              "      <th>Weight</th>\n",
              "    </tr>\n",
              "  </thead>\n",
              "  <tbody>\n",
              "    <tr>\n",
              "      <th>1555</th>\n",
              "      <td>Male</td>\n",
              "      <td>167.6</td>\n",
              "      <td>74.9</td>\n",
              "    </tr>\n",
              "    <tr>\n",
              "      <th>3202</th>\n",
              "      <td>Male</td>\n",
              "      <td>169.7</td>\n",
              "      <td>78.3</td>\n",
              "    </tr>\n",
              "    <tr>\n",
              "      <th>6574</th>\n",
              "      <td>Female</td>\n",
              "      <td>163.2</td>\n",
              "      <td>64.6</td>\n",
              "    </tr>\n",
              "    <tr>\n",
              "      <th>9389</th>\n",
              "      <td>Female</td>\n",
              "      <td>159.5</td>\n",
              "      <td>61.6</td>\n",
              "    </tr>\n",
              "    <tr>\n",
              "      <th>9743</th>\n",
              "      <td>Female</td>\n",
              "      <td>164.8</td>\n",
              "      <td>71.8</td>\n",
              "    </tr>\n",
              "  </tbody>\n",
              "</table>\n",
              "</div>\n",
              "      <button class=\"colab-df-convert\" onclick=\"convertToInteractive('df-eb01db00-157c-4487-907b-ceb3761fe61a')\"\n",
              "              title=\"Convert this dataframe to an interactive table.\"\n",
              "              style=\"display:none;\">\n",
              "        \n",
              "  <svg xmlns=\"http://www.w3.org/2000/svg\" height=\"24px\"viewBox=\"0 0 24 24\"\n",
              "       width=\"24px\">\n",
              "    <path d=\"M0 0h24v24H0V0z\" fill=\"none\"/>\n",
              "    <path d=\"M18.56 5.44l.94 2.06.94-2.06 2.06-.94-2.06-.94-.94-2.06-.94 2.06-2.06.94zm-11 1L8.5 8.5l.94-2.06 2.06-.94-2.06-.94L8.5 2.5l-.94 2.06-2.06.94zm10 10l.94 2.06.94-2.06 2.06-.94-2.06-.94-.94-2.06-.94 2.06-2.06.94z\"/><path d=\"M17.41 7.96l-1.37-1.37c-.4-.4-.92-.59-1.43-.59-.52 0-1.04.2-1.43.59L10.3 9.45l-7.72 7.72c-.78.78-.78 2.05 0 2.83L4 21.41c.39.39.9.59 1.41.59.51 0 1.02-.2 1.41-.59l7.78-7.78 2.81-2.81c.8-.78.8-2.07 0-2.86zM5.41 20L4 18.59l7.72-7.72 1.47 1.35L5.41 20z\"/>\n",
              "  </svg>\n",
              "      </button>\n",
              "      \n",
              "  <style>\n",
              "    .colab-df-container {\n",
              "      display:flex;\n",
              "      flex-wrap:wrap;\n",
              "      gap: 12px;\n",
              "    }\n",
              "\n",
              "    .colab-df-convert {\n",
              "      background-color: #E8F0FE;\n",
              "      border: none;\n",
              "      border-radius: 50%;\n",
              "      cursor: pointer;\n",
              "      display: none;\n",
              "      fill: #1967D2;\n",
              "      height: 32px;\n",
              "      padding: 0 0 0 0;\n",
              "      width: 32px;\n",
              "    }\n",
              "\n",
              "    .colab-df-convert:hover {\n",
              "      background-color: #E2EBFA;\n",
              "      box-shadow: 0px 1px 2px rgba(60, 64, 67, 0.3), 0px 1px 3px 1px rgba(60, 64, 67, 0.15);\n",
              "      fill: #174EA6;\n",
              "    }\n",
              "\n",
              "    [theme=dark] .colab-df-convert {\n",
              "      background-color: #3B4455;\n",
              "      fill: #D2E3FC;\n",
              "    }\n",
              "\n",
              "    [theme=dark] .colab-df-convert:hover {\n",
              "      background-color: #434B5C;\n",
              "      box-shadow: 0px 1px 3px 1px rgba(0, 0, 0, 0.15);\n",
              "      filter: drop-shadow(0px 1px 2px rgba(0, 0, 0, 0.3));\n",
              "      fill: #FFFFFF;\n",
              "    }\n",
              "  </style>\n",
              "\n",
              "      <script>\n",
              "        const buttonEl =\n",
              "          document.querySelector('#df-eb01db00-157c-4487-907b-ceb3761fe61a button.colab-df-convert');\n",
              "        buttonEl.style.display =\n",
              "          google.colab.kernel.accessAllowed ? 'block' : 'none';\n",
              "\n",
              "        async function convertToInteractive(key) {\n",
              "          const element = document.querySelector('#df-eb01db00-157c-4487-907b-ceb3761fe61a');\n",
              "          const dataTable =\n",
              "            await google.colab.kernel.invokeFunction('convertToInteractive',\n",
              "                                                     [key], {});\n",
              "          if (!dataTable) return;\n",
              "\n",
              "          const docLinkHtml = 'Like what you see? Visit the ' +\n",
              "            '<a target=\"_blank\" href=https://colab.research.google.com/notebooks/data_table.ipynb>data table notebook</a>'\n",
              "            + ' to learn more about interactive tables.';\n",
              "          element.innerHTML = '';\n",
              "          dataTable['output_type'] = 'display_data';\n",
              "          await google.colab.output.renderOutput(dataTable, element);\n",
              "          const docLink = document.createElement('div');\n",
              "          docLink.innerHTML = docLinkHtml;\n",
              "          element.appendChild(docLink);\n",
              "        }\n",
              "      </script>\n",
              "    </div>\n",
              "  </div>\n",
              "  "
            ]
          },
          "metadata": {},
          "execution_count": 17
        }
      ]
    },
    {
      "cell_type": "code",
      "source": [
        "# Divide into features (X) and targets (y)\n",
        "X = df.values[:, 1:]\n",
        "y = df.values[:, 0]\n",
        "\n",
        "le = LabelEncoder()\n",
        "y = le.fit_transform(y)\n",
        "\n",
        "classmap = dict(zip(range(len(le.classes_)), le.classes_))\n",
        "print(f\"{classmap=}\")\n",
        "\n",
        "# Split into training and testing sets\n",
        "X_train, X_test, y_train, y_test = split(X, y, random_state=42)\n",
        "\n",
        "# Train and evaluate Decision Tree classifier\n",
        "dtc = DecisionTreeClassifier(max_depth=3).fit(X_train, y_train)\n",
        "print(f\"dtc accuracy: {dtc.score(X_test, y_test):.2%}\")\n",
        "\n",
        "# Train and evaluate Random Forest classifier\n",
        "rfc = RandomForestClassifier(n_estimators=10, max_depth=3).fit(X_train, y_train)\n",
        "print(f\"rfc accuracy: {rfc.score(X_test, y_test):.2%}\")"
      ],
      "metadata": {
        "colab": {
          "base_uri": "https://localhost:8080/"
        },
        "id": "x64dn-wlFVnj",
        "outputId": "b9113712-5d57-4067-9805-fdbc006c454e"
      },
      "execution_count": 18,
      "outputs": [
        {
          "output_type": "stream",
          "name": "stdout",
          "text": [
            "classmap={0: 'Female', 1: 'Male'}\n",
            "dtc accuracy: 91.60%\n",
            "rfc accuracy: 90.96%\n"
          ]
        }
      ]
    },
    {
      "cell_type": "code",
      "source": [
        "h = float(input(\"Enter height in cm: \"))\n",
        "w = float(input(\"Enter weight in kg: \"))\n",
        "print(f\"Predict as {le.inverse_transform(rfc.predict([[h, w]]))}\")"
      ],
      "metadata": {
        "colab": {
          "base_uri": "https://localhost:8080/"
        },
        "id": "2ylXpd92Gskp",
        "outputId": "ee9ec63a-a361-4287-b9f5-b23a7e0f800a"
      },
      "execution_count": 23,
      "outputs": [
        {
          "output_type": "stream",
          "name": "stdout",
          "text": [
            "Enter height in cm: 175\n",
            "Enter weight in kg: 80\n",
            "Predict as ['Male']\n"
          ]
        }
      ]
    },
    {
      "cell_type": "code",
      "source": [
        "# Export to C code\n",
        "c_code = port(rfc, classmap=classmap)\n",
        "\n",
        "with open('rfc.h', 'w') as f:\n",
        "  f.write(c_code)"
      ],
      "metadata": {
        "id": "0xuhDUe3JUF_"
      },
      "execution_count": 24,
      "outputs": []
    },
    {
      "cell_type": "code",
      "source": [
        "from sklearn.model_selection import GridSearchCV\n",
        "\n",
        "params = dict(n_estimators = range(1, 11), max_depth=range(1, 11))\n",
        "grid = GridSearchCV(RandomForestClassifier(), params, cv=5, verbose=1, n_jobs=-1)\n",
        "grid.fit(X_train, y_train)\n",
        "print(grid.best_params_)"
      ],
      "metadata": {
        "colab": {
          "base_uri": "https://localhost:8080/"
        },
        "id": "81EowxaPMgho",
        "outputId": "4aa7e6ea-96cc-44ed-88f2-e7576dd38ca3"
      },
      "execution_count": 25,
      "outputs": [
        {
          "output_type": "stream",
          "name": "stdout",
          "text": [
            "Fitting 5 folds for each of 100 candidates, totalling 500 fits\n",
            "{'max_depth': 5, 'n_estimators': 8}\n"
          ]
        }
      ]
    },
    {
      "cell_type": "code",
      "source": [
        "rfc2 = RandomForestClassifier(**grid.best_params_).fit(X_train, y_train)\n",
        "print(f\"rfc2 accuracy: {rfc2.score(X_test, y_test):.2%}\")"
      ],
      "metadata": {
        "colab": {
          "base_uri": "https://localhost:8080/"
        },
        "id": "274pO9PXNCcX",
        "outputId": "a7692388-6bb7-4a69-8497-489fb733f7c7"
      },
      "execution_count": 26,
      "outputs": [
        {
          "output_type": "stream",
          "name": "stdout",
          "text": [
            "rfc2 accuracy: 91.84%\n"
          ]
        }
      ]
    },
    {
      "cell_type": "code",
      "source": [
        "# Export rfc2 to C code\n",
        "c_code = port(rfc2, classmap=classmap)\n",
        "\n",
        "with open('rfc2.h', 'w') as f:\n",
        "  f.write(c_code)"
      ],
      "metadata": {
        "id": "GIbsYpY6Ne6d"
      },
      "execution_count": 27,
      "outputs": []
    }
  ]
}