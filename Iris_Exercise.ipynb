{
  "cells": [
    {
      "cell_type": "markdown",
      "id": "5bb4336d",
      "metadata": {
        "id": "5bb4336d"
      },
      "source": [
        "## Iris Dataset"
      ]
    },
    {
      "cell_type": "code",
      "execution_count": 1,
      "id": "e3927075",
      "metadata": {
        "id": "e3927075"
      },
      "outputs": [],
      "source": [
        "# Import modules\n",
        "from sklearn.model_selection import train_test_split as split\n",
        "from sklearn.tree import DecisionTreeClassifier\n",
        "from sklearn.ensemble import RandomForestClassifier\n",
        "from pandas import read_csv"
      ]
    },
    {
      "cell_type": "code",
      "execution_count": 2,
      "id": "f20cdf20",
      "metadata": {
        "colab": {
          "base_uri": "https://localhost:8080/",
          "height": 206
        },
        "id": "f20cdf20",
        "outputId": "6a4f074c-4a38-4f16-fafe-cb3c4d0eb854"
      },
      "outputs": [
        {
          "output_type": "execute_result",
          "data": {
            "text/plain": [
              "     sepal_length  sepal_width  petal_length  petal_width     species\n",
              "58            6.6          2.9           4.6          1.3  versicolor\n",
              "130           7.4          2.8           6.1          1.9   virginica\n",
              "147           6.5          3.0           5.2          2.0   virginica\n",
              "57            4.9          2.4           3.3          1.0  versicolor\n",
              "72            6.3          2.5           4.9          1.5  versicolor"
            ],
            "text/html": [
              "\n",
              "  <div id=\"df-fa07c87d-9e81-46ea-bf67-368d65301886\">\n",
              "    <div class=\"colab-df-container\">\n",
              "      <div>\n",
              "<style scoped>\n",
              "    .dataframe tbody tr th:only-of-type {\n",
              "        vertical-align: middle;\n",
              "    }\n",
              "\n",
              "    .dataframe tbody tr th {\n",
              "        vertical-align: top;\n",
              "    }\n",
              "\n",
              "    .dataframe thead th {\n",
              "        text-align: right;\n",
              "    }\n",
              "</style>\n",
              "<table border=\"1\" class=\"dataframe\">\n",
              "  <thead>\n",
              "    <tr style=\"text-align: right;\">\n",
              "      <th></th>\n",
              "      <th>sepal_length</th>\n",
              "      <th>sepal_width</th>\n",
              "      <th>petal_length</th>\n",
              "      <th>petal_width</th>\n",
              "      <th>species</th>\n",
              "    </tr>\n",
              "  </thead>\n",
              "  <tbody>\n",
              "    <tr>\n",
              "      <th>58</th>\n",
              "      <td>6.6</td>\n",
              "      <td>2.9</td>\n",
              "      <td>4.6</td>\n",
              "      <td>1.3</td>\n",
              "      <td>versicolor</td>\n",
              "    </tr>\n",
              "    <tr>\n",
              "      <th>130</th>\n",
              "      <td>7.4</td>\n",
              "      <td>2.8</td>\n",
              "      <td>6.1</td>\n",
              "      <td>1.9</td>\n",
              "      <td>virginica</td>\n",
              "    </tr>\n",
              "    <tr>\n",
              "      <th>147</th>\n",
              "      <td>6.5</td>\n",
              "      <td>3.0</td>\n",
              "      <td>5.2</td>\n",
              "      <td>2.0</td>\n",
              "      <td>virginica</td>\n",
              "    </tr>\n",
              "    <tr>\n",
              "      <th>57</th>\n",
              "      <td>4.9</td>\n",
              "      <td>2.4</td>\n",
              "      <td>3.3</td>\n",
              "      <td>1.0</td>\n",
              "      <td>versicolor</td>\n",
              "    </tr>\n",
              "    <tr>\n",
              "      <th>72</th>\n",
              "      <td>6.3</td>\n",
              "      <td>2.5</td>\n",
              "      <td>4.9</td>\n",
              "      <td>1.5</td>\n",
              "      <td>versicolor</td>\n",
              "    </tr>\n",
              "  </tbody>\n",
              "</table>\n",
              "</div>\n",
              "      <button class=\"colab-df-convert\" onclick=\"convertToInteractive('df-fa07c87d-9e81-46ea-bf67-368d65301886')\"\n",
              "              title=\"Convert this dataframe to an interactive table.\"\n",
              "              style=\"display:none;\">\n",
              "        \n",
              "  <svg xmlns=\"http://www.w3.org/2000/svg\" height=\"24px\"viewBox=\"0 0 24 24\"\n",
              "       width=\"24px\">\n",
              "    <path d=\"M0 0h24v24H0V0z\" fill=\"none\"/>\n",
              "    <path d=\"M18.56 5.44l.94 2.06.94-2.06 2.06-.94-2.06-.94-.94-2.06-.94 2.06-2.06.94zm-11 1L8.5 8.5l.94-2.06 2.06-.94-2.06-.94L8.5 2.5l-.94 2.06-2.06.94zm10 10l.94 2.06.94-2.06 2.06-.94-2.06-.94-.94-2.06-.94 2.06-2.06.94z\"/><path d=\"M17.41 7.96l-1.37-1.37c-.4-.4-.92-.59-1.43-.59-.52 0-1.04.2-1.43.59L10.3 9.45l-7.72 7.72c-.78.78-.78 2.05 0 2.83L4 21.41c.39.39.9.59 1.41.59.51 0 1.02-.2 1.41-.59l7.78-7.78 2.81-2.81c.8-.78.8-2.07 0-2.86zM5.41 20L4 18.59l7.72-7.72 1.47 1.35L5.41 20z\"/>\n",
              "  </svg>\n",
              "      </button>\n",
              "      \n",
              "  <style>\n",
              "    .colab-df-container {\n",
              "      display:flex;\n",
              "      flex-wrap:wrap;\n",
              "      gap: 12px;\n",
              "    }\n",
              "\n",
              "    .colab-df-convert {\n",
              "      background-color: #E8F0FE;\n",
              "      border: none;\n",
              "      border-radius: 50%;\n",
              "      cursor: pointer;\n",
              "      display: none;\n",
              "      fill: #1967D2;\n",
              "      height: 32px;\n",
              "      padding: 0 0 0 0;\n",
              "      width: 32px;\n",
              "    }\n",
              "\n",
              "    .colab-df-convert:hover {\n",
              "      background-color: #E2EBFA;\n",
              "      box-shadow: 0px 1px 2px rgba(60, 64, 67, 0.3), 0px 1px 3px 1px rgba(60, 64, 67, 0.15);\n",
              "      fill: #174EA6;\n",
              "    }\n",
              "\n",
              "    [theme=dark] .colab-df-convert {\n",
              "      background-color: #3B4455;\n",
              "      fill: #D2E3FC;\n",
              "    }\n",
              "\n",
              "    [theme=dark] .colab-df-convert:hover {\n",
              "      background-color: #434B5C;\n",
              "      box-shadow: 0px 1px 3px 1px rgba(0, 0, 0, 0.15);\n",
              "      filter: drop-shadow(0px 1px 2px rgba(0, 0, 0, 0.3));\n",
              "      fill: #FFFFFF;\n",
              "    }\n",
              "  </style>\n",
              "\n",
              "      <script>\n",
              "        const buttonEl =\n",
              "          document.querySelector('#df-fa07c87d-9e81-46ea-bf67-368d65301886 button.colab-df-convert');\n",
              "        buttonEl.style.display =\n",
              "          google.colab.kernel.accessAllowed ? 'block' : 'none';\n",
              "\n",
              "        async function convertToInteractive(key) {\n",
              "          const element = document.querySelector('#df-fa07c87d-9e81-46ea-bf67-368d65301886');\n",
              "          const dataTable =\n",
              "            await google.colab.kernel.invokeFunction('convertToInteractive',\n",
              "                                                     [key], {});\n",
              "          if (!dataTable) return;\n",
              "\n",
              "          const docLinkHtml = 'Like what you see? Visit the ' +\n",
              "            '<a target=\"_blank\" href=https://colab.research.google.com/notebooks/data_table.ipynb>data table notebook</a>'\n",
              "            + ' to learn more about interactive tables.';\n",
              "          element.innerHTML = '';\n",
              "          dataTable['output_type'] = 'display_data';\n",
              "          await google.colab.output.renderOutput(dataTable, element);\n",
              "          const docLink = document.createElement('div');\n",
              "          docLink.innerHTML = docLinkHtml;\n",
              "          element.appendChild(docLink);\n",
              "        }\n",
              "      </script>\n",
              "    </div>\n",
              "  </div>\n",
              "  "
            ]
          },
          "metadata": {},
          "execution_count": 2
        }
      ],
      "source": [
        "# Load dataset into dataframe\n",
        "df = read_csv('https://raw.githubusercontent.com/wooihaw/datasets/main/iris.csv')\n",
        "df.sample(5)  # show 5 random data samples"
      ]
    },
    {
      "cell_type": "code",
      "execution_count": 3,
      "id": "baa13f82",
      "metadata": {
        "colab": {
          "base_uri": "https://localhost:8080/"
        },
        "id": "baa13f82",
        "outputId": "0d61d86e-09a8-4f27-d0b3-c72b623ecd4b"
      },
      "outputs": [
        {
          "output_type": "stream",
          "name": "stdout",
          "text": [
            "(150, 4) (150,)\n"
          ]
        }
      ],
      "source": [
        "# Divide into features and target\n",
        "X = df.values[:, :-1]\n",
        "y = df.values[:, -1]\n",
        "print(X.shape, y.shape)  # print the dimesion of X and y"
      ]
    },
    {
      "cell_type": "code",
      "execution_count": 4,
      "id": "548a94bc",
      "metadata": {
        "colab": {
          "base_uri": "https://localhost:8080/"
        },
        "id": "548a94bc",
        "outputId": "db16492a-e02e-4470-89b8-24ddae651422"
      },
      "outputs": [
        {
          "output_type": "stream",
          "name": "stdout",
          "text": [
            "Training set:  (105, 4) (105,)\n",
            "Testing set:  (45, 4) (45,)\n"
          ]
        }
      ],
      "source": [
        "# Split into training and testing sets\n",
        "X_train, X_test, y_train, y_test = split(X, y, test_size=0.3, random_state=42)\n",
        "print(\"Training set: \", X_train.shape, y_train.shape) \n",
        "print(\"Testing set: \", X_test.shape, y_test.shape)"
      ]
    },
    {
      "cell_type": "code",
      "execution_count": 6,
      "id": "0a3fb4a2",
      "metadata": {
        "colab": {
          "base_uri": "https://localhost:8080/"
        },
        "id": "0a3fb4a2",
        "outputId": "2c9e1afd-1021-43bd-9d1d-2b7b14483481"
      },
      "outputs": [
        {
          "output_type": "stream",
          "name": "stdout",
          "text": [
            "clf1 accuracy: 100.00%\n"
          ]
        }
      ],
      "source": [
        "# Train and evaluate Decision Tree model\n",
        "clf1 = DecisionTreeClassifier().fit(X_train, y_train)\n",
        "print(f\"clf1 accuracy: {clf1.score(X_test, y_test):.2%}\")"
      ]
    },
    {
      "cell_type": "code",
      "execution_count": 8,
      "id": "c4660c1e",
      "metadata": {
        "colab": {
          "base_uri": "https://localhost:8080/"
        },
        "id": "c4660c1e",
        "outputId": "087563e6-c4c4-4085-d3a7-3de4a00c0d72"
      },
      "outputs": [
        {
          "output_type": "stream",
          "name": "stdout",
          "text": [
            "clf2 accuracy: 100.00%\n"
          ]
        }
      ],
      "source": [
        "# Train and evaluate Random Forest model\n",
        "clf2 = RandomForestClassifier().fit(X_train, y_train)\n",
        "print(f\"clf2 accuracy: {clf2.score(X_test, y_test):.2%}\")"
      ]
    },
    {
      "cell_type": "code",
      "source": [
        "pip install micromlgen"
      ],
      "metadata": {
        "colab": {
          "base_uri": "https://localhost:8080/"
        },
        "id": "0rrICfPi_AZY",
        "outputId": "246e761b-a7df-41bb-b69a-faa90e41e7d7"
      },
      "id": "0rrICfPi_AZY",
      "execution_count": 9,
      "outputs": [
        {
          "output_type": "stream",
          "name": "stdout",
          "text": [
            "Looking in indexes: https://pypi.org/simple, https://us-python.pkg.dev/colab-wheels/public/simple/\n",
            "Collecting micromlgen\n",
            "  Downloading micromlgen-1.1.28.tar.gz (12 kB)\n",
            "Requirement already satisfied: jinja2 in /usr/local/lib/python3.8/dist-packages (from micromlgen) (2.11.3)\n",
            "Requirement already satisfied: MarkupSafe>=0.23 in /usr/local/lib/python3.8/dist-packages (from jinja2->micromlgen) (2.0.1)\n",
            "Building wheels for collected packages: micromlgen\n",
            "  Building wheel for micromlgen (setup.py) ... \u001b[?25l\u001b[?25hdone\n",
            "  Created wheel for micromlgen: filename=micromlgen-1.1.28-py3-none-any.whl size=32173 sha256=2f9dd97d2e5bea4c2e977c0fd069a8305c7373d019eccd80354f63e2238a3fb1\n",
            "  Stored in directory: /root/.cache/pip/wheels/b5/c1/36/9848f822936171a90ec43d0534cb86a58e1dff20c645e22074\n",
            "Successfully built micromlgen\n",
            "Installing collected packages: micromlgen\n",
            "Successfully installed micromlgen-1.1.28\n"
          ]
        }
      ]
    },
    {
      "cell_type": "code",
      "execution_count": 10,
      "id": "78be9df3",
      "metadata": {
        "id": "78be9df3"
      },
      "outputs": [],
      "source": [
        "# Export model to C code for deployment on ESP32\n",
        "from micromlgen import port\n",
        "\n",
        "c_code = port(clf1)\n",
        "\n",
        "with open('decisiontree.h', 'w') as f:\n",
        "  f.write(c_code)"
      ]
    },
    {
      "cell_type": "code",
      "source": [
        "c_code = port(clf2)\n",
        "\n",
        "with open('randomforest.h', 'w') as f:\n",
        "  f.write(c_code)"
      ],
      "metadata": {
        "id": "hukNuXzuA9g1"
      },
      "id": "hukNuXzuA9g1",
      "execution_count": 11,
      "outputs": []
    }
  ],
  "metadata": {
    "kernelspec": {
      "display_name": "Python 3 (ipykernel)",
      "language": "python",
      "name": "python3"
    },
    "language_info": {
      "codemirror_mode": {
        "name": "ipython",
        "version": 3
      },
      "file_extension": ".py",
      "mimetype": "text/x-python",
      "name": "python",
      "nbconvert_exporter": "python",
      "pygments_lexer": "ipython3",
      "version": "3.9.12"
    },
    "colab": {
      "provenance": []
    }
  },
  "nbformat": 4,
  "nbformat_minor": 5
}