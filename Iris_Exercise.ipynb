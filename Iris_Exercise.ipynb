{
 "cells": [
  {
   "cell_type": "markdown",
   "id": "5bb4336d",
   "metadata": {},
   "source": [
    "## Iris Dataset"
   ]
  },
  {
   "cell_type": "code",
   "execution_count": null,
   "id": "e3927075",
   "metadata": {},
   "outputs": [],
   "source": [
    "# Import modules\n",
    "from sklearn.model_selection import train_test_split as split\n",
    "from sklearn.tree import DecisionTreeClassifier\n",
    "from sklearn.ensemble import RandomForestClassifier\n",
    "from pandas import read_csv"
   ]
  },
  {
   "cell_type": "code",
   "execution_count": null,
   "id": "f20cdf20",
   "metadata": {},
   "outputs": [],
   "source": [
    "# Load dataset into dataframe\n",
    "df = read_csv('https://raw.githubusercontent.com/wooihaw/datasets/main/iris.csv')\n",
    "df.sample(5)  # show 5 random data samples"
   ]
  },
  {
   "cell_type": "code",
   "execution_count": null,
   "id": "baa13f82",
   "metadata": {},
   "outputs": [],
   "source": [
    "# Divide into features and target\n",
    "X = df.values[:, :-1]\n",
    "y = df.values[:, -1]\n",
    "print(X.shape, y.shape)  # print the dimesion of X and y"
   ]
  },
  {
   "cell_type": "code",
   "execution_count": null,
   "id": "548a94bc",
   "metadata": {},
   "outputs": [],
   "source": [
    "# Split into training and testing sets\n",
    "X_train, X_test, y_train, y_test = split(X, y, test_size=0.3, random_state=42)\n",
    "print(\"Training set: \", X_train.shape, y_train.shape) \n",
    "print(\"Testing set: \", X_test.shape, y_test.shape)"
   ]
  },
  {
   "cell_type": "code",
   "execution_count": null,
   "id": "0a3fb4a2",
   "metadata": {},
   "outputs": [],
   "source": [
    "# Train and evaluate Decision Tree model\n"
   ]
  },
  {
   "cell_type": "code",
   "execution_count": null,
   "id": "c4660c1e",
   "metadata": {},
   "outputs": [],
   "source": [
    "# Train and evaluate Random Forest model\n"
   ]
  },
  {
   "cell_type": "code",
   "execution_count": null,
   "id": "78be9df3",
   "metadata": {},
   "outputs": [],
   "source": [
    "# Export model to C code for deployment on ESP32\n",
    "from micromlgen import port\n"
   ]
  }
 ],
 "metadata": {
  "kernelspec": {
   "display_name": "Python 3 (ipykernel)",
   "language": "python",
   "name": "python3"
  },
  "language_info": {
   "codemirror_mode": {
    "name": "ipython",
    "version": 3
   },
   "file_extension": ".py",
   "mimetype": "text/x-python",
   "name": "python",
   "nbconvert_exporter": "python",
   "pygments_lexer": "ipython3",
   "version": "3.9.12"
  }
 },
 "nbformat": 4,
 "nbformat_minor": 5
}
