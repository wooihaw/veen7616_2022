{
 "cells": [
  {
   "cell_type": "markdown",
   "metadata": {
    "id": "w-MF50IrPcd0"
   },
   "source": [
    "## Learn Python in 15 minutes!"
   ]
  },
  {
   "cell_type": "markdown",
   "metadata": {
    "id": "w-MF50IrPcd0"
   },
   "source": [
    "### Variables\n",
    "\n",
    "Defining variables"
   ]
  },
  {
   "cell_type": "code",
   "execution_count": null,
   "metadata": {
    "id": "HITuuekJPcd4"
   },
   "outputs": [],
   "source": [
    "a = 10\n",
    "b = 'string_b'\n",
    "c = \"string_c\"\n",
    "d = 0.999"
   ]
  },
  {
   "cell_type": "markdown",
   "metadata": {
    "id": "02sR2TdNPcd5"
   },
   "source": [
    "To print something, use `print`"
   ]
  },
  {
   "cell_type": "code",
   "execution_count": null,
   "metadata": {
    "id": "gz9nRyj-Pcd5",
    "outputId": "c842546e-429a-4c36-f132-6149e7be09e4"
   },
   "outputs": [],
   "source": [
    "print(a, b, c, d)"
   ]
  },
  {
   "cell_type": "markdown",
   "metadata": {
    "id": "jr-ajrLSPcd6"
   },
   "source": [
    "Putting multiple variables together in a tuple:"
   ]
  },
  {
   "cell_type": "code",
   "execution_count": null,
   "metadata": {
    "id": "jdor9sGCPcd6"
   },
   "outputs": [],
   "source": [
    "t = (a, b)"
   ]
  },
  {
   "cell_type": "code",
   "execution_count": null,
   "metadata": {
    "id": "2pu2lTF9Pcd7",
    "outputId": "1bf97ae6-68a2-488f-a9a3-a1e74dbfb8db"
   },
   "outputs": [],
   "source": [
    "print(t)"
   ]
  },
  {
   "cell_type": "markdown",
   "metadata": {
    "id": "qRGSJWUfPcd7"
   },
   "source": [
    "Tuple assignment: swapping `a` and `b`"
   ]
  },
  {
   "cell_type": "code",
   "execution_count": null,
   "metadata": {
    "id": "hPdeaCR4Pcd7",
    "outputId": "fe2cd7a1-b5d5-4771-b436-3c4d25300ac6"
   },
   "outputs": [],
   "source": [
    "a = 10\n",
    "b = 20\n",
    "\n",
    "a, b = b, a\n",
    "\n",
    "print(\"a =\", a)\n",
    "print(\"b =\", b)"
   ]
  },
  {
   "cell_type": "markdown",
   "metadata": {
    "id": "aRw3-iUfPcd8"
   },
   "source": [
    "Formatting: \n",
    "\n",
    "* using `%s` for strings\n",
    "* using `%.2f` for floats"
   ]
  },
  {
   "cell_type": "code",
   "execution_count": null,
   "metadata": {
    "id": "PkCbJEPjPcd8",
    "outputId": "12032542-9c0c-4d91-ac78-64dfc8085b27"
   },
   "outputs": [],
   "source": [
    "print(\"a = %s, b = %s\" % (a, b))"
   ]
  },
  {
   "cell_type": "code",
   "execution_count": null,
   "metadata": {
    "id": "sTPASLWVPcd8",
    "outputId": "bdae5ea2-76b5-43de-ea48-6b26cbfa3dfe"
   },
   "outputs": [],
   "source": [
    "n = 0.0099999999\n",
    "print(\"n = %.2f\" % n)"
   ]
  },
  {
   "cell_type": "markdown",
   "metadata": {
    "id": "rRtbrTYkPcd8"
   },
   "source": [
    "### Control Flow\n",
    "\n",
    "If statements:"
   ]
  },
  {
   "cell_type": "code",
   "execution_count": null,
   "metadata": {
    "id": "ayvHhvX-Pcd9",
    "outputId": "b98ccafc-6bc9-4121-fa67-7be8f95476c4"
   },
   "outputs": [],
   "source": [
    "a = 10\n",
    "\n",
    "if a >= 5:\n",
    "    print('the statement is true')\n",
    "else:\n",
    "    print('the statement is false')"
   ]
  },
  {
   "cell_type": "code",
   "execution_count": null,
   "metadata": {
    "id": "13sHGcMNPcd9",
    "outputId": "f006b547-c8c4-43f4-ead3-95568d7dd5f8"
   },
   "outputs": [],
   "source": [
    "a = 3\n",
    "\n",
    "if a >= 5:\n",
    "    print('the first statement is true')\n",
    "elif a >= 0:\n",
    "    print('the second statement is true')\n",
    "else:\n",
    "    print('both statements are false')"
   ]
  },
  {
   "cell_type": "markdown",
   "metadata": {
    "id": "S-uK4VMtPcd9"
   },
   "source": [
    "For loops.\n",
    "\n",
    "Use `range(10)` to go from 0 to 9"
   ]
  },
  {
   "cell_type": "code",
   "execution_count": null,
   "metadata": {
    "id": "3iyM-eubPcd9",
    "outputId": "419d3ffa-348d-4c95-ae63-ffb04b327bc2"
   },
   "outputs": [],
   "source": [
    "for i in range(10):\n",
    "    print(i)"
   ]
  },
  {
   "cell_type": "markdown",
   "metadata": {
    "id": "9tdmPX1-Pcd-"
   },
   "source": [
    "Use `range(10, 100, 5)` to start from 10 and move with increments of 5"
   ]
  },
  {
   "cell_type": "code",
   "execution_count": null,
   "metadata": {
    "id": "cBpvZpTUPcd-",
    "outputId": "e45cb2cb-826b-4be4-ea1c-11b344ffb6cf"
   },
   "outputs": [],
   "source": [
    "for i in range(10, 100, 5):\n",
    "    print(i)"
   ]
  },
  {
   "cell_type": "markdown",
   "metadata": {
    "id": "VHq2KTXEPcd-"
   },
   "source": [
    "Breaking out from the loop with `break`:"
   ]
  },
  {
   "cell_type": "code",
   "execution_count": null,
   "metadata": {
    "id": "6a3d5TlFPcd-",
    "outputId": "7e553d1d-9bbd-4ce7-e47e-ed10476447de"
   },
   "outputs": [],
   "source": [
    "for i in range(10):\n",
    "    print(i)\n",
    "    if i > 5:\n",
    "        break"
   ]
  },
  {
   "cell_type": "markdown",
   "metadata": {
    "id": "2zanolc7Pcd-"
   },
   "source": [
    "Exit one iteration of the loop, but keep going "
   ]
  },
  {
   "cell_type": "code",
   "execution_count": null,
   "metadata": {
    "id": "sbrnSs8fPcd_",
    "outputId": "356510b7-9a49-4a78-fb81-c4bed0c4d7e4"
   },
   "outputs": [],
   "source": [
    "for i in range(10):\n",
    "    if i <= 5:\n",
    "        continue\n",
    "    print(i)"
   ]
  },
  {
   "cell_type": "markdown",
   "metadata": {
    "id": "X81GHwQTPcd_"
   },
   "source": [
    "While loop: run while the condition is `True`"
   ]
  },
  {
   "cell_type": "code",
   "execution_count": null,
   "metadata": {
    "id": "D9srot4_Pcd_",
    "outputId": "dbc02d77-f8f5-41eb-c6db-4c0a9babad54"
   },
   "outputs": [],
   "source": [
    "cnt = 0 \n",
    "\n",
    "while cnt <= 5:\n",
    "    print(cnt)\n",
    "    cnt = cnt + 1"
   ]
  },
  {
   "cell_type": "markdown",
   "metadata": {
    "id": "rWbmcsx2Pcd_"
   },
   "source": [
    "## Collections\n",
    "\n",
    "### Lists\n",
    "\n",
    "Let's create a list with numbers"
   ]
  },
  {
   "cell_type": "code",
   "execution_count": null,
   "metadata": {
    "id": "sN2uIMPxPcd_"
   },
   "outputs": [],
   "source": [
    "numbers = [1, 2, 3, 5, 7, 11, 13]"
   ]
  },
  {
   "cell_type": "markdown",
   "metadata": {
    "id": "IjJHgn4FPcd_"
   },
   "source": [
    "Getting the first element from the list:"
   ]
  },
  {
   "cell_type": "code",
   "execution_count": null,
   "metadata": {
    "id": "CzUMta6GPcd_",
    "outputId": "292a5e3b-dd55-441b-ef1c-845f7632ee94"
   },
   "outputs": [],
   "source": [
    "el = numbers[1]\n",
    "print(el)"
   ]
  },
  {
   "cell_type": "markdown",
   "metadata": {
    "id": "LN7AyBAgPceA"
   },
   "source": [
    "Changing one element of the list:"
   ]
  },
  {
   "cell_type": "code",
   "execution_count": null,
   "metadata": {
    "id": "ytYyZgIzPceA"
   },
   "outputs": [],
   "source": [
    "numbers[1] = -2"
   ]
  },
  {
   "cell_type": "code",
   "execution_count": null,
   "metadata": {
    "id": "idQ3-_VgPceA",
    "outputId": "3f67ed6a-d99f-4870-afa5-56afc8733546"
   },
   "outputs": [],
   "source": [
    "numbers"
   ]
  },
  {
   "cell_type": "markdown",
   "metadata": {
    "id": "bGatX7dLPceA"
   },
   "source": [
    "In Python, you can use `-1` to access the last element, `-2` to access the one before last and so on: "
   ]
  },
  {
   "cell_type": "code",
   "execution_count": null,
   "metadata": {
    "id": "C6du4MOcPceA",
    "outputId": "5ca61fcf-1a14-4f25-986e-987fd3048a74"
   },
   "outputs": [],
   "source": [
    "print(numbers[-1], numbers[-2])"
   ]
  },
  {
   "cell_type": "markdown",
   "metadata": {
    "id": "V2j7UpcOPceA"
   },
   "source": [
    "To add another element to the list, use `append`:"
   ]
  },
  {
   "cell_type": "code",
   "execution_count": null,
   "metadata": {
    "id": "ZVTl7cr5PceA",
    "outputId": "3c708d3d-6627-4418-90f4-4e66f5042d45"
   },
   "outputs": [],
   "source": [
    "numbers.append(17)\n",
    "numbers"
   ]
  },
  {
   "cell_type": "markdown",
   "metadata": {
    "id": "4ARe4ej9PceA"
   },
   "source": [
    "Iterating over a list:\n",
    "\n",
    "* Using for-each loop\n",
    "* Using for loop and `range`\n",
    "* Combining both with `enumarate`"
   ]
  },
  {
   "cell_type": "code",
   "execution_count": null,
   "metadata": {
    "id": "a5wlKvQ2PceB",
    "outputId": "258e4a70-593d-481b-dd81-e58fa82e02e7"
   },
   "outputs": [],
   "source": [
    "for n in numbers:\n",
    "    print(n)"
   ]
  },
  {
   "cell_type": "code",
   "execution_count": null,
   "metadata": {
    "id": "9buetjsUPceB",
    "outputId": "441f7773-ebcf-422e-e522-9ca3feac3912"
   },
   "outputs": [],
   "source": [
    "for i in range(len(numbers)):\n",
    "    n = numbers[i]\n",
    "    print(\"numbers[%d] = %d\" % (i, n))"
   ]
  },
  {
   "cell_type": "code",
   "execution_count": null,
   "metadata": {
    "id": "mGEtxbnZPceB",
    "outputId": "e89d388a-eb34-4f5d-b31a-da5e66233319"
   },
   "outputs": [],
   "source": [
    "for i, n in enumerate(numbers):\n",
    "    print(\"numbers[%d] = %d\" % (i, n))"
   ]
  },
  {
   "cell_type": "markdown",
   "metadata": {
    "id": "NNNdVEyDPceB"
   },
   "source": [
    "Combininig two lists into one:"
   ]
  },
  {
   "cell_type": "code",
   "execution_count": null,
   "metadata": {
    "id": "P03hiWw7PceB",
    "outputId": "a3ea9a48-335a-4d03-b3ff-d822a2249b83"
   },
   "outputs": [],
   "source": [
    "list1 = [1, 2, 3, 5]\n",
    "list2 = [7, 11, 13, 17]\n",
    "list1 + list2"
   ]
  },
  {
   "cell_type": "markdown",
   "metadata": {
    "id": "s-rBa8g-PceB"
   },
   "source": [
    "Creating a list of lists:"
   ]
  },
  {
   "cell_type": "code",
   "execution_count": null,
   "metadata": {
    "id": "6jRwBF0mPceB",
    "outputId": "013f4dce-eb33-4377-8e12-dbb20c645c26"
   },
   "outputs": [],
   "source": [
    "list1 = [1, 2, 3, 5]\n",
    "list2 = [7, 11, 13, 17]\n",
    "list3 = [19, 23, 27, 29]\n",
    "\n",
    "lists = [list1, list2, list3]\n",
    "\n",
    "lists"
   ]
  },
  {
   "cell_type": "code",
   "execution_count": null,
   "metadata": {
    "id": "YgDukW4mPceC",
    "outputId": "b74b343d-336d-4404-cf1a-f6cd6be66add"
   },
   "outputs": [],
   "source": [
    "for l in lists:\n",
    "    print(l)"
   ]
  },
  {
   "cell_type": "markdown",
   "metadata": {
    "id": "LozEqBFmPceC"
   },
   "source": [
    "### Slices\n",
    "\n",
    "Accessing parts of the list\n",
    "\n",
    "* `numbers[0:3]` to access elements 0, 1 and 1\n",
    "* `numbers[2:]` to access elements starting from position 2"
   ]
  },
  {
   "cell_type": "code",
   "execution_count": null,
   "metadata": {
    "id": "YG2hd1xEPceC"
   },
   "outputs": [],
   "source": [
    "numbers = [1, 2, 3, 5, 7]"
   ]
  },
  {
   "cell_type": "code",
   "execution_count": null,
   "metadata": {
    "id": "Uk8zq8pPPceC",
    "outputId": "46dfee6f-f4cb-423a-97a4-0d829743b935"
   },
   "outputs": [],
   "source": [
    "top3 = numbers[0:3]\n",
    "top3"
   ]
  },
  {
   "cell_type": "code",
   "execution_count": null,
   "metadata": {
    "id": "XBOcU1hOPceC",
    "outputId": "0385d8cc-59ca-41b2-db74-da68c08e9b5a"
   },
   "outputs": [],
   "source": [
    "last3 = numbers[2:]\n",
    "last3"
   ]
  },
  {
   "cell_type": "markdown",
   "metadata": {
    "id": "xQY9S1FLPceC"
   },
   "source": [
    "### Tuples\n",
    "\n",
    "Tuples are like lists, but they are immutable"
   ]
  },
  {
   "cell_type": "code",
   "execution_count": null,
   "metadata": {
    "id": "fsj7UP3XPceC"
   },
   "outputs": [],
   "source": [
    "numbers = (1, 2, 3, 5, 7, 11, 13)\n"
   ]
  },
  {
   "cell_type": "markdown",
   "metadata": {
    "id": "MuVzGHucPceD"
   },
   "source": [
    "It's not possible to modify them:"
   ]
  },
  {
   "cell_type": "code",
   "execution_count": null,
   "metadata": {
    "id": "-qtizPo3PceD",
    "outputId": "03c77152-47bc-4dd3-a0cc-648dfc1596bc"
   },
   "outputs": [],
   "source": [
    "numbers[2] = -2"
   ]
  },
  {
   "cell_type": "markdown",
   "metadata": {
    "id": "vewEIKtlPceD"
   },
   "source": [
    "But you can create a new tuple which is the old tuple plus a new element:"
   ]
  },
  {
   "cell_type": "code",
   "execution_count": null,
   "metadata": {
    "id": "1FY0OPewPceD"
   },
   "outputs": [],
   "source": [
    "numbers = numbers + (17,)"
   ]
  },
  {
   "cell_type": "code",
   "execution_count": null,
   "metadata": {
    "id": "dMt4eXO7PceD",
    "outputId": "c2601774-c14e-48bc-9830-2f3986f82255"
   },
   "outputs": [],
   "source": [
    "numbers"
   ]
  },
  {
   "cell_type": "markdown",
   "metadata": {
    "id": "nJuzHo1lPceD"
   },
   "source": [
    "### Sets\n",
    "\n",
    "Unordered collections that don't contain duplicates"
   ]
  },
  {
   "cell_type": "code",
   "execution_count": null,
   "metadata": {
    "id": "C4nStrczPceD"
   },
   "outputs": [],
   "source": [
    "numbers = {1, 2, 3, 5, 7, 11, 13}"
   ]
  },
  {
   "cell_type": "markdown",
   "metadata": {
    "id": "Ap8jBUfXPceD"
   },
   "source": [
    "Checking if a set contains an element is fast. Use `in` for that:"
   ]
  },
  {
   "cell_type": "code",
   "execution_count": null,
   "metadata": {
    "id": "UlU6j0OSPceD",
    "outputId": "d3ba0967-1da5-436e-b662-8e13e5c56b6e"
   },
   "outputs": [],
   "source": [
    "print(1 in numbers)"
   ]
  },
  {
   "cell_type": "markdown",
   "metadata": {
    "id": "ZJwSFoCaPceE"
   },
   "source": [
    "Adding elements to a set -- use `add`:"
   ]
  },
  {
   "cell_type": "code",
   "execution_count": null,
   "metadata": {
    "id": "5DDSE2w-PceE"
   },
   "outputs": [],
   "source": [
    "numbers.add(17)"
   ]
  },
  {
   "cell_type": "markdown",
   "metadata": {
    "id": "4oKhn-hkPceE"
   },
   "source": [
    "To iterate over all elements, use the for loop:"
   ]
  },
  {
   "cell_type": "code",
   "execution_count": null,
   "metadata": {
    "id": "KD2lyRxKPceE",
    "outputId": "e77c9dfa-c81f-41c7-e9a9-d86e97a15130"
   },
   "outputs": [],
   "source": [
    "for n in numbers:\n",
    "    print(n)"
   ]
  },
  {
   "cell_type": "markdown",
   "metadata": {
    "id": "CFFIaRCZPceE"
   },
   "source": [
    "### Dictionaries"
   ]
  },
  {
   "cell_type": "markdown",
   "metadata": {
    "id": "yK1csYlDPceE"
   },
   "source": [
    "Dictionaries map keys to values"
   ]
  },
  {
   "cell_type": "code",
   "execution_count": null,
   "metadata": {
    "id": "R8yEMyugPceE"
   },
   "outputs": [],
   "source": [
    "words_to_numbers = {\n",
    "    'one': 1,\n",
    "    'two': 2,\n",
    "    'three': 3,\n",
    "}"
   ]
  },
  {
   "cell_type": "markdown",
   "metadata": {
    "id": "gl8slbSAPceE"
   },
   "source": [
    "Accessing the value by its key"
   ]
  },
  {
   "cell_type": "code",
   "execution_count": null,
   "metadata": {
    "id": "n39viI3KPceE",
    "outputId": "56bd44f0-1d9f-4785-9155-ffdd58d779b3"
   },
   "outputs": [],
   "source": [
    "print(words_to_numbers['one'])"
   ]
  },
  {
   "cell_type": "markdown",
   "metadata": {
    "id": "aUDHTX-HPceE"
   },
   "source": [
    "If the key is not in the dictionary, an error occurs"
   ]
  },
  {
   "cell_type": "code",
   "execution_count": null,
   "metadata": {
    "id": "UdTg495GPceF",
    "outputId": "1c255a99-4f47-49a0-9121-abcde8e213b6"
   },
   "outputs": [],
   "source": [
    "print(words_to_numbers['five'])"
   ]
  },
  {
   "cell_type": "markdown",
   "metadata": {
    "id": "JECdNrRXPceF"
   },
   "source": [
    "To check if the key is in the dictionary, use `in` "
   ]
  },
  {
   "cell_type": "code",
   "execution_count": null,
   "metadata": {
    "id": "uL5UrJZWPceF",
    "outputId": "bcbf3cd2-8840-4853-c27a-5a8539ac91f8"
   },
   "outputs": [],
   "source": [
    "if 'five' in words_to_numbers:\n",
    "    print(words_to_numbers['five'])\n",
    "else:\n",
    "    print('not in the dictionary')\n"
   ]
  },
  {
   "cell_type": "markdown",
   "metadata": {
    "id": "mbHfSXuKPceF"
   },
   "source": [
    "The `get()` method returns `None` if the key is not in the dictionary"
   ]
  },
  {
   "cell_type": "code",
   "execution_count": null,
   "metadata": {
    "id": "dPQ0JpmkPceF",
    "outputId": "485fb6ec-bc46-4987-cd14-be38b3d5e15b"
   },
   "outputs": [],
   "source": [
    "val = words_to_numbers.get('five')\n",
    "print(val)"
   ]
  },
  {
   "cell_type": "markdown",
   "metadata": {
    "id": "ZIcKav0zPceF"
   },
   "source": [
    "You can use `get(key, default_value)` to return the default value if the key isn't present"
   ]
  },
  {
   "cell_type": "code",
   "execution_count": null,
   "metadata": {
    "id": "VNKk8K_uPceF",
    "outputId": "0ba7ee71-23ae-4d89-f4bc-a7b76dd9fad9"
   },
   "outputs": [],
   "source": [
    "val = words_to_numbers.get('five', -1)\n",
    "print(val)\n"
   ]
  },
  {
   "cell_type": "markdown",
   "metadata": {
    "id": "0xyzYAk8PceF"
   },
   "source": [
    "Iterating over keys of the dictionary:"
   ]
  },
  {
   "cell_type": "code",
   "execution_count": null,
   "metadata": {
    "id": "rcipYepuPceG",
    "outputId": "79bb514c-4c6a-4973-882c-2060192a26ef"
   },
   "outputs": [],
   "source": [
    "for k in words_to_numbers.keys():\n",
    "    v = words_to_numbers[k]\n",
    "    print(\"%s: %d\" % (k, v))\n"
   ]
  },
  {
   "cell_type": "markdown",
   "metadata": {
    "id": "wStb7v29PceG"
   },
   "source": [
    "Iterating over key-value pairs:"
   ]
  },
  {
   "cell_type": "code",
   "execution_count": null,
   "metadata": {
    "id": "nfEGw-mjPceG",
    "outputId": "a4bd3840-ddbc-4580-8916-5dc3ef930b81"
   },
   "outputs": [],
   "source": [
    "for k, v in words_to_numbers.items():\n",
    "    print(\"%s: %d\" % (k, v))\n"
   ]
  },
  {
   "cell_type": "markdown",
   "metadata": {
    "id": "JqlgF-L8PceG"
   },
   "source": [
    "### List comprehensions\n",
    "\n",
    "Let's create a list with numbers:"
   ]
  },
  {
   "cell_type": "code",
   "execution_count": null,
   "metadata": {
    "id": "Dp-yHM5uPceG"
   },
   "outputs": [],
   "source": [
    "numbers = [1, 2, 3, 5, 7]"
   ]
  },
  {
   "cell_type": "markdown",
   "metadata": {
    "id": "zBUUYypmPceG"
   },
   "source": [
    "Suppose we want to create another list where all the elements of the original list are squared. For that we can use a for loop:\n",
    "\n",
    "```python\n",
    "squared = []\n",
    "\n",
    "for n in numbers:\n",
    "    s = n * n\n",
    "    squared.append(s)\n",
    "```\n",
    "\n",
    "We can concisely rewrite this code into one single line using list comprehension:\n"
   ]
  },
  {
   "cell_type": "code",
   "execution_count": null,
   "metadata": {
    "id": "v5mUAGAbPceG",
    "outputId": "2dd4cac1-e300-4bdc-ce01-05c632367ceb"
   },
   "outputs": [],
   "source": [
    "squared = [n * n for n in numbers]\n",
    "squared"
   ]
  },
  {
   "cell_type": "markdown",
   "metadata": {
    "id": "s6fVBtNhPceG"
   },
   "source": [
    "It’s also possible to add an if condition inside to process only the elements that meet the condition:\n"
   ]
  },
  {
   "cell_type": "code",
   "execution_count": null,
   "metadata": {
    "id": "5B0K9KtKPceH",
    "outputId": "1c7ca367-d3c6-42cf-bb4f-2fff39a0a20d"
   },
   "outputs": [],
   "source": [
    "squared = [n * n for n in numbers if n > 3]\n",
    "squared"
   ]
  },
  {
   "cell_type": "markdown",
   "metadata": {
    "id": "YtagS2FuPceH"
   },
   "source": [
    "We can use it for dictionaries as well:"
   ]
  },
  {
   "cell_type": "code",
   "execution_count": null,
   "metadata": {
    "id": "h8Afe4ulPceH",
    "outputId": "b781d16d-88af-4dde-a758-5e2afd6d9c0c"
   },
   "outputs": [],
   "source": [
    "result = {k: v * 10 for (k, v) in words_to_numbers.items() if v % 2 == 0}\n",
    "result"
   ]
  },
  {
   "cell_type": "markdown",
   "metadata": {
    "id": "8wKg6c6GPceH"
   },
   "source": [
    "## Organizing your code\n",
    "### Functions"
   ]
  },
  {
   "cell_type": "markdown",
   "metadata": {
    "id": "hLO17Qi3PceH"
   },
   "source": [
    "This is how we define the function:"
   ]
  },
  {
   "cell_type": "code",
   "execution_count": null,
   "metadata": {
    "id": "SPk2kaxGPceH"
   },
   "outputs": [],
   "source": [
    "def print_numbers(max):\n",
    "    for i in range(max + 1):\n",
    "        print(i)"
   ]
  },
  {
   "cell_type": "markdown",
   "metadata": {
    "id": "NKFc-D-jPceH"
   },
   "source": [
    "And invoke it:"
   ]
  },
  {
   "cell_type": "code",
   "execution_count": null,
   "metadata": {
    "id": "AM_AYVR2PceI",
    "outputId": "88a65851-5a07-4f3b-a37e-8a584ef7c136"
   },
   "outputs": [],
   "source": [
    "print_numbers(10)"
   ]
  },
  {
   "cell_type": "markdown",
   "metadata": {
    "id": "erV0EmT7PceI"
   },
   "source": [
    "You can use named arguments:"
   ]
  },
  {
   "cell_type": "code",
   "execution_count": null,
   "metadata": {
    "id": "cskYoI9IPceI",
    "outputId": "c43d8f5d-11af-495e-a93e-7d669a2f7a41"
   },
   "outputs": [],
   "source": [
    "print_numbers(max=10)"
   ]
  },
  {
   "cell_type": "markdown",
   "metadata": {
    "id": "h1jw18DYPceI"
   },
   "source": [
    "### Classes\n",
    "\n",
    "This is how you define a class:"
   ]
  },
  {
   "cell_type": "code",
   "execution_count": null,
   "metadata": {
    "id": "188YIpPtPceI"
   },
   "outputs": [],
   "source": [
    "class NumberPrinter:\n",
    "\n",
    "    def __init__(self, max):\n",
    "        self.max = max\n",
    "\n",
    "    def print_numbers(self):\n",
    "        for i in range(self.max + 1):\n",
    "            print(i)\n"
   ]
  },
  {
   "cell_type": "code",
   "execution_count": null,
   "metadata": {
    "id": "11MHp-lMPceI",
    "outputId": "8bb34396-07d7-4888-bca0-064ec8a0fca0"
   },
   "outputs": [],
   "source": [
    "num_printer = NumberPrinter(max=10)\n",
    "num_printer.print_numbers()"
   ]
  }
 ],
 "metadata": {
  "colab": {
   "provenance": []
  },
  "kernelspec": {
   "display_name": "Python 3 (ipykernel)",
   "language": "python",
   "name": "python3"
  },
  "language_info": {
   "codemirror_mode": {
    "name": "ipython",
    "version": 3
   },
   "file_extension": ".py",
   "mimetype": "text/x-python",
   "name": "python",
   "nbconvert_exporter": "python",
   "pygments_lexer": "ipython3",
   "version": "3.9.12"
  }
 },
 "nbformat": 4,
 "nbformat_minor": 1
}
